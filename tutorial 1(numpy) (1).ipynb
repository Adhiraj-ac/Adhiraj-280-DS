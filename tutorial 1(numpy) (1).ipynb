{
 "cells": [
  {
   "cell_type": "code",
   "execution_count": 1,
   "id": "4895e17e-c807-46a3-84a4-7a8766df3319",
   "metadata": {},
   "outputs": [
    {
     "name": "stdout",
     "output_type": "stream",
     "text": [
      "[1, 2, 3, 4]\n"
     ]
    },
    {
     "data": {
      "text/plain": [
       "list"
      ]
     },
     "execution_count": 1,
     "metadata": {},
     "output_type": "execute_result"
    }
   ],
   "source": [
    "import numpy as np\n",
    "Array=[1,2,3,4]\n",
    "print(Array)\n",
    "type(Array)"
   ]
  },
  {
   "cell_type": "code",
   "execution_count": 31,
   "id": "bee18681-a018-4320-9090-ca4b97032d74",
   "metadata": {},
   "outputs": [
    {
     "data": {
      "text/plain": [
       "(2, 4)"
      ]
     },
     "execution_count": 31,
     "metadata": {},
     "output_type": "execute_result"
    }
   ],
   "source": [
    "import numpy as np\n",
    "Array=np.array([[1,2,3,4],[7,8,9,0]])\n",
    "type(Array)\n",
    "Array.shape\n"
   ]
  },
  {
   "cell_type": "code",
   "execution_count": 65,
   "id": "066e4ce2-267c-491a-a047-e1251fc7bcbb",
   "metadata": {},
   "outputs": [
    {
     "name": "stdout",
     "output_type": "stream",
     "text": [
      "[ 0  1  2  3  4  5  6  7  8  9 10 11 12 13 14 15 16 17 18 19]\n"
     ]
    }
   ],
   "source": [
    "import numpy as np\n",
    "Arr = np.arange(20)  \n",
    "print(Arr)"
   ]
  },
  {
   "cell_type": "code",
   "execution_count": 41,
   "id": "4437f2b1-88e5-4ecf-bd88-d9cb823af1b3",
   "metadata": {},
   "outputs": [
    {
     "data": {
      "text/plain": [
       "(4,)"
      ]
     },
     "execution_count": 41,
     "metadata": {},
     "output_type": "execute_result"
    }
   ],
   "source": [
    "import numpy as np\n",
    "\n",
    "Array = np.array([1, 2, 3,4])\n",
    "Array.shape"
   ]
  },
  {
   "cell_type": "code",
   "execution_count": 61,
   "id": "72c59188-4b45-46eb-8fb5-d737483bdb43",
   "metadata": {},
   "outputs": [
    {
     "name": "stdout",
     "output_type": "stream",
     "text": [
      "[[ 0  1  2]\n",
      " [ 3  4  5]\n",
      " [ 6  7  8]\n",
      " [ 9 10 11]\n",
      " [12 13 14]\n",
      " [15 16 17]\n",
      " [18 19 20]]\n"
     ]
    }
   ],
   "source": [
    "import numpy as np\n",
    "Arr = np.arange(21).reshape(7,3)  # Corrected the function name from np.arrange to np.arange\n",
    "print(Arr)"
   ]
  },
  {
   "cell_type": "code",
   "execution_count": 67,
   "id": "5111eba7-26e7-4a35-9da0-9b83dbe37a8f",
   "metadata": {},
   "outputs": [
    {
     "name": "stdout",
     "output_type": "stream",
     "text": [
      "[[ 0  1  2  3  4  5  6  7  8  9 10 11]\n",
      " [12 13 14 15 16 17 18 19 20 21 22 23]]\n",
      "[[ 0  1  2  3  4  5  6  7]\n",
      " [ 8  9 10 11 12 13 14 15]\n",
      " [16 17 18 19 20 21 22 23]]\n",
      "[[ 0  1  2  3  4  5]\n",
      " [ 6  7  8  9 10 11]\n",
      " [12 13 14 15 16 17]\n",
      " [18 19 20 21 22 23]]\n"
     ]
    }
   ],
   "source": [
    "import numpy as np\n",
    "Arr = np.arange(24).reshape(2,12)\n",
    "print(Arr)\n",
    "Arr=np.arange(24).reshape(3,8)\n",
    "print(Arr)\n",
    "Arr=np.arange(24).reshape(4,6)\n",
    "print(Arr)"
   ]
  },
  {
   "cell_type": "code",
   "execution_count": null,
   "id": "a447f6be-ee02-46a4-952f-b1d3683153ee",
   "metadata": {},
   "outputs": [],
   "source": []
  }
 ],
 "metadata": {
  "kernelspec": {
   "display_name": "Python 3 (ipykernel)",
   "language": "python",
   "name": "python3"
  },
  "language_info": {
   "codemirror_mode": {
    "name": "ipython",
    "version": 3
   },
   "file_extension": ".py",
   "mimetype": "text/x-python",
   "name": "python",
   "nbconvert_exporter": "python",
   "pygments_lexer": "ipython3",
   "version": "3.12.4"
  }
 },
 "nbformat": 4,
 "nbformat_minor": 5
}
