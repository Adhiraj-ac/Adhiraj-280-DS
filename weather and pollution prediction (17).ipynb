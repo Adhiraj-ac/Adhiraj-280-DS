{
 "cells": [
  {
   "cell_type": "markdown",
   "id": "28d3b9b6",
   "metadata": {},
   "source": [
    "# Weather and Pollution prediction\n"
   ]
  },
  {
   "cell_type": "markdown",
   "id": "607951a3",
   "metadata": {},
   "source": [
    "## INTRODUCTION"
   ]
  },
  {
   "cell_type": "markdown",
   "id": "f171937e",
   "metadata": {},
   "source": [
    "### Project Context\n",
    "A company in the environmental consulting industry is seeking to analyze the air quality in a specific city during hot and cold weather, during high-wind conditions and during precipitation. They are interested in making recommendations to the government and businesses in the region on how to mitigate the impact of weather conditions on air quality.  \n",
    "\n",
    " \n",
    "\n",
    "As a Data Analyst, you are expected to analyze the data provided, seek insights and make recommendations to achieve the set objectives.\n",
    "\n",
    "Additionally, kindly use this dataset to analyze the historical impact of weather conditions on air quality, and make predictions on air quality during specific weather conditions. This information could be used to inform emergency response plans and prepare for potential air quality issues.\n",
    "\n"
   ]
  },
  {
   "cell_type": "markdown",
   "id": "28b0f649",
   "metadata": {},
   "source": [
    "### Dataset Description \n",
    "\n",
    "The dataset contains 43824 rows and 13 columns abd the data time period is between Jan 1st, 2010 to Dec 31st, 2014. Missing data are denoted as NA.\n",
    "\n",
    "### Column Definition\n",
    "- No: row number\n",
    "- year: year of data in this row\n",
    "- month: month of data in this row\n",
    "- day: day of data in this row\n",
    "- hour: hour of data in this row\n",
    "- pm2.5: PM2.5 concentration (ug/m^3)\n",
    "- DEWP: Dew Point (â„ƒ)\n",
    "- TEMP: Temperature (â„ƒ)\n",
    "- PRES: Pressure (hPa)\n",
    "- cbwd: Combined wind direction\n",
    "- Iws: Cumulated wind speed (m/s)\n",
    "- Is: Cumulated hours of snow\n",
    "- Ir: Cumulated hours of rain"
   ]
  },
  {
   "cell_type": "markdown",
   "id": "3e3c4b08",
   "metadata": {},
   "source": [
    "."
   ]
  },
  {
   "cell_type": "markdown",
   "id": "789123d3",
   "metadata": {},
   "source": [
    "## IMPORTING LIBRARIES AND LOADING DATASETS"
   ]
  },
  {
   "cell_type": "markdown",
   "id": "f96419cc",
   "metadata": {},
   "source": [
    "This Project Wrangling & Analysis would be done using Python with the aid of some of its packages, which would be imported. The dataset is also loaded into a dataframe"
   ]
  },
  {
   "cell_type": "code",
   "execution_count": 1,
   "id": "0be97438",
   "metadata": {},
   "outputs": [],
   "source": [
    "# Importing the pyhton packages\n",
    "import numpy as np\n",
    "import pandas as pd\n",
    "import matplotlib.pyplot as plt\n",
    "import seaborn as sns \n",
    "import calendar\n",
    "from windrose import WindroseAxes\n",
    "\n",
    "import warnings\n",
    "warnings.filterwarnings('ignore')\n",
    "\n",
    "%matplotlib inline"
   ]
  },
  {
   "cell_type": "code",
   "execution_count": 3,
   "id": "3883788e",
   "metadata": {},
   "outputs": [
    {
     "ename": "FileNotFoundError",
     "evalue": "[Errno 2] No such file or directory: 'cleaned_weather.csv'",
     "output_type": "error",
     "traceback": [
      "\u001b[1;31m---------------------------------------------------------------------------\u001b[0m",
      "\u001b[1;31mFileNotFoundError\u001b[0m                         Traceback (most recent call last)",
      "Cell \u001b[1;32mIn[3], line 2\u001b[0m\n\u001b[0;32m      1\u001b[0m \u001b[38;5;66;03m# Loading the cleaned dataset into a dataframe\u001b[39;00m\n\u001b[1;32m----> 2\u001b[0m weather \u001b[38;5;241m=\u001b[39m \u001b[43mpd\u001b[49m\u001b[38;5;241;43m.\u001b[39;49m\u001b[43mread_csv\u001b[49m\u001b[43m(\u001b[49m\u001b[38;5;124;43m\"\u001b[39;49m\u001b[38;5;124;43mcleaned_weather.csv\u001b[39;49m\u001b[38;5;124;43m\"\u001b[39;49m\u001b[43m)\u001b[49m\n\u001b[0;32m      4\u001b[0m \u001b[38;5;66;03m#to display the first five rows \u001b[39;00m\n\u001b[0;32m      5\u001b[0m \u001b[38;5;28mprint\u001b[39m(weather\u001b[38;5;241m.\u001b[39mhead())\n",
      "File \u001b[1;32m~\\anaconda3\\Lib\\site-packages\\pandas\\io\\parsers\\readers.py:1026\u001b[0m, in \u001b[0;36mread_csv\u001b[1;34m(filepath_or_buffer, sep, delimiter, header, names, index_col, usecols, dtype, engine, converters, true_values, false_values, skipinitialspace, skiprows, skipfooter, nrows, na_values, keep_default_na, na_filter, verbose, skip_blank_lines, parse_dates, infer_datetime_format, keep_date_col, date_parser, date_format, dayfirst, cache_dates, iterator, chunksize, compression, thousands, decimal, lineterminator, quotechar, quoting, doublequote, escapechar, comment, encoding, encoding_errors, dialect, on_bad_lines, delim_whitespace, low_memory, memory_map, float_precision, storage_options, dtype_backend)\u001b[0m\n\u001b[0;32m   1013\u001b[0m kwds_defaults \u001b[38;5;241m=\u001b[39m _refine_defaults_read(\n\u001b[0;32m   1014\u001b[0m     dialect,\n\u001b[0;32m   1015\u001b[0m     delimiter,\n\u001b[1;32m   (...)\u001b[0m\n\u001b[0;32m   1022\u001b[0m     dtype_backend\u001b[38;5;241m=\u001b[39mdtype_backend,\n\u001b[0;32m   1023\u001b[0m )\n\u001b[0;32m   1024\u001b[0m kwds\u001b[38;5;241m.\u001b[39mupdate(kwds_defaults)\n\u001b[1;32m-> 1026\u001b[0m \u001b[38;5;28;01mreturn\u001b[39;00m \u001b[43m_read\u001b[49m\u001b[43m(\u001b[49m\u001b[43mfilepath_or_buffer\u001b[49m\u001b[43m,\u001b[49m\u001b[43m \u001b[49m\u001b[43mkwds\u001b[49m\u001b[43m)\u001b[49m\n",
      "File \u001b[1;32m~\\anaconda3\\Lib\\site-packages\\pandas\\io\\parsers\\readers.py:620\u001b[0m, in \u001b[0;36m_read\u001b[1;34m(filepath_or_buffer, kwds)\u001b[0m\n\u001b[0;32m    617\u001b[0m _validate_names(kwds\u001b[38;5;241m.\u001b[39mget(\u001b[38;5;124m\"\u001b[39m\u001b[38;5;124mnames\u001b[39m\u001b[38;5;124m\"\u001b[39m, \u001b[38;5;28;01mNone\u001b[39;00m))\n\u001b[0;32m    619\u001b[0m \u001b[38;5;66;03m# Create the parser.\u001b[39;00m\n\u001b[1;32m--> 620\u001b[0m parser \u001b[38;5;241m=\u001b[39m \u001b[43mTextFileReader\u001b[49m\u001b[43m(\u001b[49m\u001b[43mfilepath_or_buffer\u001b[49m\u001b[43m,\u001b[49m\u001b[43m \u001b[49m\u001b[38;5;241;43m*\u001b[39;49m\u001b[38;5;241;43m*\u001b[39;49m\u001b[43mkwds\u001b[49m\u001b[43m)\u001b[49m\n\u001b[0;32m    622\u001b[0m \u001b[38;5;28;01mif\u001b[39;00m chunksize \u001b[38;5;129;01mor\u001b[39;00m iterator:\n\u001b[0;32m    623\u001b[0m     \u001b[38;5;28;01mreturn\u001b[39;00m parser\n",
      "File \u001b[1;32m~\\anaconda3\\Lib\\site-packages\\pandas\\io\\parsers\\readers.py:1620\u001b[0m, in \u001b[0;36mTextFileReader.__init__\u001b[1;34m(self, f, engine, **kwds)\u001b[0m\n\u001b[0;32m   1617\u001b[0m     \u001b[38;5;28mself\u001b[39m\u001b[38;5;241m.\u001b[39moptions[\u001b[38;5;124m\"\u001b[39m\u001b[38;5;124mhas_index_names\u001b[39m\u001b[38;5;124m\"\u001b[39m] \u001b[38;5;241m=\u001b[39m kwds[\u001b[38;5;124m\"\u001b[39m\u001b[38;5;124mhas_index_names\u001b[39m\u001b[38;5;124m\"\u001b[39m]\n\u001b[0;32m   1619\u001b[0m \u001b[38;5;28mself\u001b[39m\u001b[38;5;241m.\u001b[39mhandles: IOHandles \u001b[38;5;241m|\u001b[39m \u001b[38;5;28;01mNone\u001b[39;00m \u001b[38;5;241m=\u001b[39m \u001b[38;5;28;01mNone\u001b[39;00m\n\u001b[1;32m-> 1620\u001b[0m \u001b[38;5;28mself\u001b[39m\u001b[38;5;241m.\u001b[39m_engine \u001b[38;5;241m=\u001b[39m \u001b[38;5;28;43mself\u001b[39;49m\u001b[38;5;241;43m.\u001b[39;49m\u001b[43m_make_engine\u001b[49m\u001b[43m(\u001b[49m\u001b[43mf\u001b[49m\u001b[43m,\u001b[49m\u001b[43m \u001b[49m\u001b[38;5;28;43mself\u001b[39;49m\u001b[38;5;241;43m.\u001b[39;49m\u001b[43mengine\u001b[49m\u001b[43m)\u001b[49m\n",
      "File \u001b[1;32m~\\anaconda3\\Lib\\site-packages\\pandas\\io\\parsers\\readers.py:1880\u001b[0m, in \u001b[0;36mTextFileReader._make_engine\u001b[1;34m(self, f, engine)\u001b[0m\n\u001b[0;32m   1878\u001b[0m     \u001b[38;5;28;01mif\u001b[39;00m \u001b[38;5;124m\"\u001b[39m\u001b[38;5;124mb\u001b[39m\u001b[38;5;124m\"\u001b[39m \u001b[38;5;129;01mnot\u001b[39;00m \u001b[38;5;129;01min\u001b[39;00m mode:\n\u001b[0;32m   1879\u001b[0m         mode \u001b[38;5;241m+\u001b[39m\u001b[38;5;241m=\u001b[39m \u001b[38;5;124m\"\u001b[39m\u001b[38;5;124mb\u001b[39m\u001b[38;5;124m\"\u001b[39m\n\u001b[1;32m-> 1880\u001b[0m \u001b[38;5;28mself\u001b[39m\u001b[38;5;241m.\u001b[39mhandles \u001b[38;5;241m=\u001b[39m \u001b[43mget_handle\u001b[49m\u001b[43m(\u001b[49m\n\u001b[0;32m   1881\u001b[0m \u001b[43m    \u001b[49m\u001b[43mf\u001b[49m\u001b[43m,\u001b[49m\n\u001b[0;32m   1882\u001b[0m \u001b[43m    \u001b[49m\u001b[43mmode\u001b[49m\u001b[43m,\u001b[49m\n\u001b[0;32m   1883\u001b[0m \u001b[43m    \u001b[49m\u001b[43mencoding\u001b[49m\u001b[38;5;241;43m=\u001b[39;49m\u001b[38;5;28;43mself\u001b[39;49m\u001b[38;5;241;43m.\u001b[39;49m\u001b[43moptions\u001b[49m\u001b[38;5;241;43m.\u001b[39;49m\u001b[43mget\u001b[49m\u001b[43m(\u001b[49m\u001b[38;5;124;43m\"\u001b[39;49m\u001b[38;5;124;43mencoding\u001b[39;49m\u001b[38;5;124;43m\"\u001b[39;49m\u001b[43m,\u001b[49m\u001b[43m \u001b[49m\u001b[38;5;28;43;01mNone\u001b[39;49;00m\u001b[43m)\u001b[49m\u001b[43m,\u001b[49m\n\u001b[0;32m   1884\u001b[0m \u001b[43m    \u001b[49m\u001b[43mcompression\u001b[49m\u001b[38;5;241;43m=\u001b[39;49m\u001b[38;5;28;43mself\u001b[39;49m\u001b[38;5;241;43m.\u001b[39;49m\u001b[43moptions\u001b[49m\u001b[38;5;241;43m.\u001b[39;49m\u001b[43mget\u001b[49m\u001b[43m(\u001b[49m\u001b[38;5;124;43m\"\u001b[39;49m\u001b[38;5;124;43mcompression\u001b[39;49m\u001b[38;5;124;43m\"\u001b[39;49m\u001b[43m,\u001b[49m\u001b[43m \u001b[49m\u001b[38;5;28;43;01mNone\u001b[39;49;00m\u001b[43m)\u001b[49m\u001b[43m,\u001b[49m\n\u001b[0;32m   1885\u001b[0m \u001b[43m    \u001b[49m\u001b[43mmemory_map\u001b[49m\u001b[38;5;241;43m=\u001b[39;49m\u001b[38;5;28;43mself\u001b[39;49m\u001b[38;5;241;43m.\u001b[39;49m\u001b[43moptions\u001b[49m\u001b[38;5;241;43m.\u001b[39;49m\u001b[43mget\u001b[49m\u001b[43m(\u001b[49m\u001b[38;5;124;43m\"\u001b[39;49m\u001b[38;5;124;43mmemory_map\u001b[39;49m\u001b[38;5;124;43m\"\u001b[39;49m\u001b[43m,\u001b[49m\u001b[43m \u001b[49m\u001b[38;5;28;43;01mFalse\u001b[39;49;00m\u001b[43m)\u001b[49m\u001b[43m,\u001b[49m\n\u001b[0;32m   1886\u001b[0m \u001b[43m    \u001b[49m\u001b[43mis_text\u001b[49m\u001b[38;5;241;43m=\u001b[39;49m\u001b[43mis_text\u001b[49m\u001b[43m,\u001b[49m\n\u001b[0;32m   1887\u001b[0m \u001b[43m    \u001b[49m\u001b[43merrors\u001b[49m\u001b[38;5;241;43m=\u001b[39;49m\u001b[38;5;28;43mself\u001b[39;49m\u001b[38;5;241;43m.\u001b[39;49m\u001b[43moptions\u001b[49m\u001b[38;5;241;43m.\u001b[39;49m\u001b[43mget\u001b[49m\u001b[43m(\u001b[49m\u001b[38;5;124;43m\"\u001b[39;49m\u001b[38;5;124;43mencoding_errors\u001b[39;49m\u001b[38;5;124;43m\"\u001b[39;49m\u001b[43m,\u001b[49m\u001b[43m \u001b[49m\u001b[38;5;124;43m\"\u001b[39;49m\u001b[38;5;124;43mstrict\u001b[39;49m\u001b[38;5;124;43m\"\u001b[39;49m\u001b[43m)\u001b[49m\u001b[43m,\u001b[49m\n\u001b[0;32m   1888\u001b[0m \u001b[43m    \u001b[49m\u001b[43mstorage_options\u001b[49m\u001b[38;5;241;43m=\u001b[39;49m\u001b[38;5;28;43mself\u001b[39;49m\u001b[38;5;241;43m.\u001b[39;49m\u001b[43moptions\u001b[49m\u001b[38;5;241;43m.\u001b[39;49m\u001b[43mget\u001b[49m\u001b[43m(\u001b[49m\u001b[38;5;124;43m\"\u001b[39;49m\u001b[38;5;124;43mstorage_options\u001b[39;49m\u001b[38;5;124;43m\"\u001b[39;49m\u001b[43m,\u001b[49m\u001b[43m \u001b[49m\u001b[38;5;28;43;01mNone\u001b[39;49;00m\u001b[43m)\u001b[49m\u001b[43m,\u001b[49m\n\u001b[0;32m   1889\u001b[0m \u001b[43m\u001b[49m\u001b[43m)\u001b[49m\n\u001b[0;32m   1890\u001b[0m \u001b[38;5;28;01massert\u001b[39;00m \u001b[38;5;28mself\u001b[39m\u001b[38;5;241m.\u001b[39mhandles \u001b[38;5;129;01mis\u001b[39;00m \u001b[38;5;129;01mnot\u001b[39;00m \u001b[38;5;28;01mNone\u001b[39;00m\n\u001b[0;32m   1891\u001b[0m f \u001b[38;5;241m=\u001b[39m \u001b[38;5;28mself\u001b[39m\u001b[38;5;241m.\u001b[39mhandles\u001b[38;5;241m.\u001b[39mhandle\n",
      "File \u001b[1;32m~\\anaconda3\\Lib\\site-packages\\pandas\\io\\common.py:873\u001b[0m, in \u001b[0;36mget_handle\u001b[1;34m(path_or_buf, mode, encoding, compression, memory_map, is_text, errors, storage_options)\u001b[0m\n\u001b[0;32m    868\u001b[0m \u001b[38;5;28;01melif\u001b[39;00m \u001b[38;5;28misinstance\u001b[39m(handle, \u001b[38;5;28mstr\u001b[39m):\n\u001b[0;32m    869\u001b[0m     \u001b[38;5;66;03m# Check whether the filename is to be opened in binary mode.\u001b[39;00m\n\u001b[0;32m    870\u001b[0m     \u001b[38;5;66;03m# Binary mode does not support 'encoding' and 'newline'.\u001b[39;00m\n\u001b[0;32m    871\u001b[0m     \u001b[38;5;28;01mif\u001b[39;00m ioargs\u001b[38;5;241m.\u001b[39mencoding \u001b[38;5;129;01mand\u001b[39;00m \u001b[38;5;124m\"\u001b[39m\u001b[38;5;124mb\u001b[39m\u001b[38;5;124m\"\u001b[39m \u001b[38;5;129;01mnot\u001b[39;00m \u001b[38;5;129;01min\u001b[39;00m ioargs\u001b[38;5;241m.\u001b[39mmode:\n\u001b[0;32m    872\u001b[0m         \u001b[38;5;66;03m# Encoding\u001b[39;00m\n\u001b[1;32m--> 873\u001b[0m         handle \u001b[38;5;241m=\u001b[39m \u001b[38;5;28;43mopen\u001b[39;49m\u001b[43m(\u001b[49m\n\u001b[0;32m    874\u001b[0m \u001b[43m            \u001b[49m\u001b[43mhandle\u001b[49m\u001b[43m,\u001b[49m\n\u001b[0;32m    875\u001b[0m \u001b[43m            \u001b[49m\u001b[43mioargs\u001b[49m\u001b[38;5;241;43m.\u001b[39;49m\u001b[43mmode\u001b[49m\u001b[43m,\u001b[49m\n\u001b[0;32m    876\u001b[0m \u001b[43m            \u001b[49m\u001b[43mencoding\u001b[49m\u001b[38;5;241;43m=\u001b[39;49m\u001b[43mioargs\u001b[49m\u001b[38;5;241;43m.\u001b[39;49m\u001b[43mencoding\u001b[49m\u001b[43m,\u001b[49m\n\u001b[0;32m    877\u001b[0m \u001b[43m            \u001b[49m\u001b[43merrors\u001b[49m\u001b[38;5;241;43m=\u001b[39;49m\u001b[43merrors\u001b[49m\u001b[43m,\u001b[49m\n\u001b[0;32m    878\u001b[0m \u001b[43m            \u001b[49m\u001b[43mnewline\u001b[49m\u001b[38;5;241;43m=\u001b[39;49m\u001b[38;5;124;43m\"\u001b[39;49m\u001b[38;5;124;43m\"\u001b[39;49m\u001b[43m,\u001b[49m\n\u001b[0;32m    879\u001b[0m \u001b[43m        \u001b[49m\u001b[43m)\u001b[49m\n\u001b[0;32m    880\u001b[0m     \u001b[38;5;28;01melse\u001b[39;00m:\n\u001b[0;32m    881\u001b[0m         \u001b[38;5;66;03m# Binary mode\u001b[39;00m\n\u001b[0;32m    882\u001b[0m         handle \u001b[38;5;241m=\u001b[39m \u001b[38;5;28mopen\u001b[39m(handle, ioargs\u001b[38;5;241m.\u001b[39mmode)\n",
      "\u001b[1;31mFileNotFoundError\u001b[0m: [Errno 2] No such file or directory: 'cleaned_weather.csv'"
     ]
    }
   ],
   "source": [
    "# Loading the cleaned dataset into a dataframe\n",
    "weather = pd.read_csv(\"cleaned_weather.csv\")\n",
    "\n",
    "#to display the first five rows \n",
    "print(weather.head())\n"
   ]
  },
  {
   "cell_type": "code",
   "execution_count": null,
   "id": "65588c12",
   "metadata": {
    "scrolled": true
   },
   "outputs": [],
   "source": [
    "# to confirm the shape of the data\n",
    "print(weather.shape)"
   ]
  },
  {
   "cell_type": "markdown",
   "id": "42ad05b6",
   "metadata": {},
   "source": [
    "."
   ]
  },
  {
   "cell_type": "markdown",
   "id": "b29c6e54",
   "metadata": {},
   "source": [
    "## Exploratory Data Analysis\n",
    "\n",
    "Exploratory data analysis will be used in this section to examine the data in order to find patterns, identify anomalies, test hypotheses, and verify presumptions with the aid of summary statistics and graphical representations. The **\"\"Question-Visualization-Observations\"** framework would be used. This framework involves asking a question from the data, creating a visualization to find answers, and then recording observations."
   ]
  },
  {
   "cell_type": "markdown",
   "id": "4b077ff6",
   "metadata": {},
   "source": [
    "### Question: What can be observed about the PM2.5 Concentration with respect to time\n",
    "\n",
    "According to [Department of Health, New York](https://www.health.ny.gov/environmental/indoors/air/pmq_a.htm#:~:text=Fine%20particulate%20matter%20(PM2.5,hazy%20when%20levels%20are%20elevated.), Fine particulate matter (PM2.5) is an air pollutant that is a concern for people's health when levels in air are high. PM2.5 are tiny particles in the air that reduce visibility and cause the air to appear hazy when levels are elevated. \n",
    "\n",
    "From [Breeze Technologies](https://www.breeze-technologies.de/blog/what-is-an-air-quality-index-how-is-it-calculated/), The levels of PM2.5 have been grouped to determine the air quality status\n",
    "\n",
    "- **Excellent (0 - 7)**: According to current research, negative impacts on ecosystems are unlikely.\n",
    "- **Fine (7 - 15)**: All values are under the legal health protection limits. Effects on ecosystems can no longer be ruled out\n",
    "- **Moderate (15 - 30)**: The health protection limits are mostly still met. Effects on ecosystems are increasingly possible.\n",
    "- **Poor (30 -55)**: The measured values are at the level of health protection limit values. Health impairments of sensitive persons may occur sporadically.\n",
    "- **Very Poor (55 - 110)**: The health protection limits have been exceeded. Health impairments of sensitive persons are possible. The population is increasingly informed about the pollutant situation.\n",
    "- **Severe (110 >)**: The measured values are at alarming levels. The health protection thresholds are clearly exceeded. Health impairments of all persons are possible.\n",
    "\n",
    "\n",
    "To start answering the Question, I would like to look at the Overall Average PM2.5 "
   ]
  },
  {
   "cell_type": "code",
   "execution_count": null,
   "id": "ed19050f",
   "metadata": {},
   "outputs": [],
   "source": [
    "# to find the average pm2.5\n",
    "mean = weather['pm2.5'].mean()\n",
    "print(f'The mean value for PM2.5 is {mean}')"
   ]
  },
  {
   "cell_type": "markdown",
   "id": "1793c63e",
   "metadata": {},
   "source": [
    "> From observing the different levels of PM2.5, I am going to give a safe zone of 100u/gm3 (closer to the mean value and still below the severe level of 110u/gm3"
   ]
  },
  {
   "cell_type": "code",
   "execution_count": null,
   "id": "2a794369",
   "metadata": {},
   "outputs": [],
   "source": [
    "# to observe the distribution of the column\n",
    "x = [0, 50, 100, 150, 200, 250, 300, 350, 400, 450, 500, 550, 600, 650, 700, 750, 800, 850, 900, 950, 1000]\n",
    "plt.figure(figsize = (15, 7))\n",
    "bins = np.arange(0, weather['pm2.5'].max() + 25, 25)\n",
    "plt.hist(data = weather, x = 'pm2.5', bins = bins, color = 'indigo')\n",
    "plt.xticks(x)\n",
    "plt.title('Distribution of PM2.5')\n",
    "plt.xlabel('PM2.5')\n",
    "plt.show();"
   ]
  },
  {
   "cell_type": "markdown",
   "id": "49b6acf0",
   "metadata": {},
   "source": [
    "> From Observing this chart, the distribution of the PM2.5 values are left skewed having the bulk of its values between 0 - 150u/gm3. Also having values tending towards 1000u/gm3 which is way above the safe limit (100u/gm3)"
   ]
  },
  {
   "cell_type": "markdown",
   "id": "4b7cf7ad",
   "metadata": {},
   "source": [
    "Let us observe the distribution of PM2.5 per season "
   ]
  },
  {
   "cell_type": "code",
   "execution_count": null,
   "id": "e45cc3bc",
   "metadata": {},
   "outputs": [],
   "source": [
    "# to observe the distribution of PM2.5 per season\n",
    "x = [0, 50, 100, 150, 200, 250, 300, 350, 400, 450, 500, 550, 600, 650, 700, 750, 800, 850, 900, 950, 1000]\n",
    "plt.figure(figsize = (15, 7))\n",
    "sns.displot(data = weather, x = 'pm2.5', hue = 'Season', kind = 'kde', fill = True,\n",
    "           palette = sns.color_palette('bright')[:4], height =5, aspect = 3)\n",
    "plt.xticks(x)\n",
    "plt.title('Distribution of PM2.5 across the different Seasons')\n",
    "plt.xlabel('PM2.5')\n",
    "plt.show();"
   ]
  },
  {
   "cell_type": "markdown",
   "id": "dc2dceaa",
   "metadata": {},
   "source": [
    "Observing the Average PM2.5 per time to look at the PM2.5 levels from 2010 to 2014"
   ]
  },
  {
   "cell_type": "code",
   "execution_count": null,
   "id": "b16ed6ee",
   "metadata": {},
   "outputs": [],
   "source": [
    "date = weather.groupby('date')['pm2.5'].mean().sort_index()\n",
    "\n",
    "base_color = sns.color_palette(\"Paired\")[9]\n",
    "plt.figure(figsize= [16, 8])\n",
    "sns.lineplot(x = date.index, y = date, color = base_color)\n",
    "plt.axhline(100, ls= '--', color= 'plum')\n",
    "plt.xlabel('Date', fontsize = 12)\n",
    "plt.ylabel('Average PM2.5', fontsize = 12)\n",
    "plt.title('Average PM2.5 per time', fontsize = 14)\n",
    "plt.show()"
   ]
  },
  {
   "cell_type": "markdown",
   "id": "2b041416",
   "metadata": {},
   "source": [
    "> Observing the PM2.5 level from January 1, 2010 to December 31, 2015, we can see that across all years the safe level of 100u/gm3 has been exceeded up on till above an average of 500u/gm3 per day recorded in 2013\n",
    "\n",
    "Checking the average PM2.5 per year as illustrated below"
   ]
  },
  {
   "cell_type": "code",
   "execution_count": null,
   "id": "278f0e79",
   "metadata": {},
   "outputs": [],
   "source": [
    "year = weather.groupby('year')['pm2.5'].mean().sort_index()\n",
    "print(year)\n",
    "\n",
    "y = [0, 10, 20, 30, 40, 50, 60, 70 , 80, 90, 100, 110]\n",
    "base_color = sns.color_palette(\"Paired\")[9]\n",
    "plt.figure(figsize= [14, 5])\n",
    "sns.barplot(x = year.index, y = year, color = base_color)\n",
    "plt.xlabel('Year', fontsize = 12)\n",
    "plt.ylabel('Average PM2.5', fontsize = 12)\n",
    "plt.title('Average PM2.5 per Year', fontsize = 14)\n",
    "plt.yticks(y)\n",
    "plt.axhline(100, ls= '--', color= 'plum')\n",
    "plt.axhline(90, ls= '--', color= 'pink')\n",
    "plt.show()"
   ]
  },
  {
   "cell_type": "markdown",
   "id": "8a82bc21",
   "metadata": {},
   "source": [
    "> **Observation:** On Average, 2010 & 2013 has an average of above 100U/gm3 (Above the safe zone). 2011 & 2014 come very close to an average of 100U/gm3. 2012 is slightly below 90Ug/m3\n",
    "\n",
    "Next, I would be observing the average PM2.5 level per month to know which months are crossing the safe limit on average"
   ]
  },
  {
   "cell_type": "code",
   "execution_count": null,
   "id": "d6aab567",
   "metadata": {},
   "outputs": [],
   "source": [
    "date = weather.groupby('month')['pm2.5'].mean().sort_index()\n",
    "base_color = sns.color_palette(\"Paired\")[9]\n",
    "plt.figure(figsize= [16, 8])\n",
    "sns.barplot(x = date.index, y = date, color = base_color)\n",
    "plt.xlabel('Month', fontsize = 12)\n",
    "plt.ylabel('Average PM2.5', fontsize = 12)\n",
    "plt.title('Average PM2.5 per Month across all years', fontsize = 14)\n",
    "plt.axhline(100, ls= '--', color= 'black')\n",
    "plt.show()"
   ]
  },
  {
   "cell_type": "markdown",
   "id": "6dbc1522",
   "metadata": {},
   "source": [
    "> **Observation:** It is observed that the PM2.5 levels are higher at the start of the year and towards the end of the year\n",
    "\n",
    "To observe this further and investigate per year"
   ]
  },
  {
   "cell_type": "code",
   "execution_count": null,
   "id": "c4fbbdc7",
   "metadata": {},
   "outputs": [],
   "source": [
    "date = weather.groupby('month')['pm2.5'].mean().sort_index()\n",
    "month = ['Jan', 'Feb', 'Mar', 'Apr', 'May','Jun', 'Jul', 'Aug', 'Sep', 'Oct', 'Nov', 'Dec']\n",
    "base_color = sns.color_palette(\"Paired\")[9]\n",
    "plt.figure(figsize= [16, 8])\n",
    "g = sns.catplot(x = 'month', y = 'pm2.5', data = weather, kind = 'bar', row = 'year', ci = None, \n",
    "            color = base_color, height =5, aspect = 3)\n",
    "axes = g.axes.flatten()\n",
    "\n",
    "for i, ax in enumerate(axes):\n",
    "    ax.axhline(100, ls = '--', c = 'black')\n",
    "    \n",
    "plt.xlabel('Month', fontsize = 12)\n",
    "plt.show();"
   ]
  },
  {
   "cell_type": "markdown",
   "id": "49c737b4",
   "metadata": {},
   "source": [
    "> **Observation:** On a year - to year observation, It is also observed that towards the middle of the year the PM2.5 level increases in some years. \n",
    "\n",
    "I would next like to look into observing the Average PM2.5 levels per season"
   ]
  },
  {
   "cell_type": "code",
   "execution_count": null,
   "id": "06d9de00",
   "metadata": {},
   "outputs": [],
   "source": [
    "date = weather.groupby('Season')['pm2.5'].mean().sort_index()\n",
    "print(date)\n",
    "\n",
    "month = ['Jan', 'Feb', 'Mar', 'Apr', 'May','Jun', 'Jul', 'Aug', 'Sep', 'Oct', 'Nov', 'Dec']\n",
    "base_color = sns.color_palette(\"Paired\")[9]\n",
    "plt.figure(figsize= [16, 8])\n",
    "sns.barplot(x = date.index, y = date, color = base_color)\n",
    "plt.xlabel('Date', fontsize = 12)\n",
    "plt.ylabel('Average PM2.5', fontsize = 12)\n",
    "plt.title('Average PM2.5 per Season', fontsize = 14)\n",
    "plt.show()\n",
    "\n",
    "plt.savefig(\"output.jpg\")"
   ]
  },
  {
   "cell_type": "markdown",
   "id": "727a5572",
   "metadata": {},
   "source": [
    "Since a threshold of 100Ug/m3 was given, I would like to look at which season has the most occurence when the PM2.5 level is above 100Ug/m3"
   ]
  },
  {
   "cell_type": "code",
   "execution_count": null,
   "id": "ad944851",
   "metadata": {},
   "outputs": [],
   "source": [
    "weather_above = weather[weather['pm2.5'] > 110]\n",
    "\n",
    "high = weather_above['Season'].value_counts()\n",
    "base_color = sns.color_palette(\"Paired\")[9]\n",
    "plt.figure(figsize= [16, 8])\n",
    "sns.barplot(x = high.index, y = high, color = base_color)\n",
    "plt.xlabel('Season', fontsize = 12)\n",
    "plt.title('The occurence of each season had PM2.5 over 110Ug/m3', fontsize = 14)\n",
    "plt.show()"
   ]
  },
  {
   "cell_type": "markdown",
   "id": "082a0b15",
   "metadata": {},
   "source": [
    "> **Observation**: The charts above shows that the higher levels of PM2.5 on average come in the Winter season (December, January and February) and in the Autumn Season (September, October and November)\n",
    "\n",
    "\n",
    "Next I want to observe the Average PM2.5 levels per Season for each year"
   ]
  },
  {
   "cell_type": "code",
   "execution_count": null,
   "id": "7526a3ad",
   "metadata": {},
   "outputs": [],
   "source": [
    "# for clarity purpose, a heatmap is plotted to show the counts \n",
    "plt.figure(figsize= (16,8))\n",
    "weather_mean = weather.groupby(['year','Season'])['pm2.5'].mean()\n",
    "weather_mean = weather_mean.reset_index(name= 'mean')\n",
    "weather_mean = weather_mean.pivot(columns = 'year', index = 'Season', values= 'mean')\n",
    "sns.heatmap(weather_mean, annot= True, cmap= 'BuPu')\n",
    "plt.yticks(fontsize = 14)\n",
    "plt.xticks(fontsize = 14)\n",
    "plt.ylabel('Season', fontsize = 14)\n",
    "plt.xlabel('Year', fontsize = 14)\n",
    "plt.title(\"HeatMap showing Average PM2.5 per Season for each year\", fontsize= 16);"
   ]
  },
  {
   "cell_type": "markdown",
   "id": "a631d4a0",
   "metadata": {},
   "source": [
    "> After observing the PM2.5 levels for each year and each Season, The winter season has an overall increase in PM2.5 levels and It is getting worse as the years progress. The Level of PM2.5 during the summer was High in 2010 and 2011 but a decrease in the PM2.5 level was noticed till 2014. The PM2.5 level within the Spring season has been generally good and manageable but still poor. The PM2.5 Level in the Autumn season is not acceptable as it surpassess the 100Ug/m3 threshold."
   ]
  },
  {
   "cell_type": "markdown",
   "id": "0d2d0ef2",
   "metadata": {},
   "source": [
    "### Question: Does the Wind Speed Affect Air Quality?\n",
    "\n",
    "For this analysis, I would like to inspect wind speed affect the Air Quality. This indireclty means to check if the PM2.5 level is affected or influenced by the level of Wind Speed"
   ]
  },
  {
   "cell_type": "markdown",
   "id": "6b92bdea",
   "metadata": {},
   "source": [
    "First I would like to observe the Average wind speed in each season"
   ]
  },
  {
   "cell_type": "code",
   "execution_count": null,
   "id": "cc19f5b4",
   "metadata": {},
   "outputs": [],
   "source": [
    "wind = weather.groupby('Season')['Iws'].mean().sort_index()\n",
    "month = ['Jan', 'Feb', 'Mar', 'Apr', 'May','Jun', 'Jul', 'Aug', 'Sep', 'Oct', 'Nov', 'Dec']\n",
    "base_color = sns.color_palette(\"Paired\")[9]\n",
    "plt.figure(figsize= [16, 8])\n",
    "sns.barplot(x = wind.index, y = wind, color = base_color)\n",
    "plt.xlabel('Season', fontsize = 12)\n",
    "plt.ylabel('Average PM2.5', fontsize = 12)\n",
    "plt.title('Average Wind Spead per Season', fontsize = 14)\n",
    "plt.show()"
   ]
  },
  {
   "cell_type": "markdown",
   "id": "7fe56a66",
   "metadata": {},
   "source": [
    "> **Observation**: From Observing the Wind Speed for each season, It is shown that the Wind Speed is the highest during the Winter Season Then the Spring Season. Wind Speed is lowest during the Summer season\n",
    "\n",
    "Next, I want to observe the direction of Wind. How Often does the wind tend towards a certain direction"
   ]
  },
  {
   "cell_type": "code",
   "execution_count": null,
   "id": "62beef52",
   "metadata": {},
   "outputs": [],
   "source": [
    "base_color = sns.color_palette(\"Paired\")[9]\n",
    "\n",
    "# the plot\n",
    "sns.countplot(data=weather, x='cbwd', color = base_color)\n",
    "plt.xticks(rotation=0);"
   ]
  },
  {
   "cell_type": "markdown",
   "id": "0b60c8da",
   "metadata": {},
   "source": [
    "> **Observation**: From the viz above, it shows that the wind mostly blows in the direction of the South East and North West.\n",
    "\n",
    "Next, I want to display the distribution of the windspeed in each Wind direction using a rose plot"
   ]
  },
  {
   "cell_type": "code",
   "execution_count": null,
   "id": "614b29e8",
   "metadata": {},
   "outputs": [],
   "source": [
    "# first to convert the wind direction to direction in degrees\n",
    "def find_angle(angle):\n",
    "    season_month = {\n",
    "        'NE': 45, 'SE': 135, 'SW': 225, 'NW': 315}\n",
    "    return season_month.get(month)\n",
    "\n",
    "season_list = []\n",
    "for month in weather['cbwd']:\n",
    "    season = find_angle(month)\n",
    "    season_list.append(season)\n",
    "    \n",
    "weather['direction'] = season_list"
   ]
  },
  {
   "cell_type": "code",
   "execution_count": null,
   "id": "26caea29",
   "metadata": {},
   "outputs": [],
   "source": [
    "ax = WindroseAxes.from_ax()\n",
    "ax.bar(weather.direction, weather.Iws, normed=True, opening=0.8, edgecolor='white')\n",
    "ax.set_legend();"
   ]
  },
  {
   "cell_type": "markdown",
   "id": "5a6d7b12",
   "metadata": {},
   "source": [
    "> **Observation**: From the plot, we can see that the wind mostly goes in the South East direction but the higher wind speed goes in the North West direction.\n",
    "\n",
    "Next, I want to observe the Average PM2.5 for each wind direction and each season"
   ]
  },
  {
   "cell_type": "code",
   "execution_count": null,
   "id": "1e7dbc2a",
   "metadata": {},
   "outputs": [],
   "source": [
    "# for clarity purpose, a heatmap is plotted to show the counts \n",
    "plt.figure(figsize= (16,8))\n",
    "weather_mean = weather.groupby(['cbwd','Season'])['pm2.5'].mean()\n",
    "weather_mean = weather_mean.reset_index(name= 'mean')\n",
    "weather_mean = weather_mean.pivot(columns = 'cbwd', index = 'Season', values= 'mean')\n",
    "sns.heatmap(weather_mean, annot= True, cmap= 'BuPu')\n",
    "plt.yticks(fontsize = 14)\n",
    "plt.xticks(fontsize = 14)\n",
    "plt.ylabel('Season', fontsize = 14)\n",
    "plt.xlabel('Wind Direction', fontsize = 14)\n",
    "plt.title(\"HeatMap showing Average PM2.5 per Season for Wind Direction\", fontsize= 16);"
   ]
  },
  {
   "cell_type": "markdown",
   "id": "5959ac79",
   "metadata": {},
   "source": [
    "> **Observation:** The Average PM2.5 levels are higher during the winter season and when the Wind Direction is South West. Higher levels of PM2.5 occur in the South East Direction and South West. \n",
    "\n",
    "\n",
    "Next, I want to observe the relationship between wind speed and PM2.5 "
   ]
  },
  {
   "cell_type": "code",
   "execution_count": null,
   "id": "f6cdee20",
   "metadata": {},
   "outputs": [],
   "source": [
    "# to print out the correlation between wind speed and PM2.5\n",
    "corr = weather['pm2.5'].corr(weather['Iws'])\n",
    "print(\"Correlation between PM2.5 and Wind Speed is: \", round(corr, 2))\n",
    "\n",
    "\n",
    "# to plot a scatter plot income and amount requested\n",
    "plt.figure(figsize= (12,8))\n",
    "sns.regplot(x = 'Iws', y = 'pm2.5', data = weather, color = 'purple', truncate= False)\n",
    "plt.yticks(fontsize = 14)\n",
    "plt.xticks(fontsize = 14)\n",
    "plt.ylabel('PM2.5 Level (Ug/m3)', fontsize = 14)\n",
    "plt.xlabel(\"Wind Speed (m/s)\", fontsize = 14)\n",
    "plt.title(\"Relationship Between PM2.5 level and Wind Speed\", fontsize= 16)\n",
    "plt.show();"
   ]
  },
  {
   "cell_type": "markdown",
   "id": "8144e7ac",
   "metadata": {},
   "source": [
    "> **Observation:** From the visual above, there is a negative correlation coefficient of -0.24 which signifies a very low correlation and can be considered negligible. On looking for trends and patterns, It is showing that when the Wind speed is very low, there is high PM2.5 level. It is safe to say that the lower the wind speed, the higher the PM2.5 level\n",
    "\n",
    "Next, I want to observe the relationship between PM2.5 and Wind Speed in the different seasons "
   ]
  },
  {
   "cell_type": "code",
   "execution_count": null,
   "id": "c2c10ee6",
   "metadata": {},
   "outputs": [],
   "source": [
    "# to print out the correlation between wind speed and PM2.5\n",
    "weather_autumn = weather[weather['Season'] == 'Autumn']\n",
    "corr = weather_autumn['pm2.5'].corr(weather_autumn['Iws'])\n",
    "print(\"Correlation between PM2.5 and Wind Speed during Autumn is: \", round(corr, 2))\n",
    "\n",
    "weather_spring = weather[weather['Season'] == 'Spring']\n",
    "corr = weather_spring['pm2.5'].corr(weather_spring['Iws'])\n",
    "print(\"Correlation between PM2.5 and Wind Speed during Spring is: \", round(corr, 2))\n",
    "\n",
    "weather_summer = weather[weather['Season'] == 'Summer']\n",
    "corr = weather_summer['pm2.5'].corr(weather_summer['Iws'])\n",
    "print(\"Correlation between PM2.5 and Wind Speed during Summer is: \", round(corr, 2))\n",
    "\n",
    "weather_winter = weather[weather['Season'] == 'Winter']\n",
    "corr = weather_winter['pm2.5'].corr(weather_winter['Iws'])\n",
    "print(\"Correlation between PM2.5 and Wind Speed during Winter is: \", round(corr, 2))"
   ]
  },
  {
   "cell_type": "markdown",
   "id": "b056f3ed",
   "metadata": {},
   "source": [
    "> **Observation:** The relationship between the PM2.5 and Wind Speed is really low across all seasons.\n",
    "\n"
   ]
  },
  {
   "cell_type": "markdown",
   "id": "39058531",
   "metadata": {},
   "source": [
    "### Question: Does the Temperature and Pressure Affect Air Quality?\n",
    "\n",
    "This Question tends to observe the relationship between Temperature and Pressure and the PM2.5. Before I start exploring the relationship, I would like to show the average Temperature per season "
   ]
  },
  {
   "cell_type": "code",
   "execution_count": null,
   "id": "c599fa2c",
   "metadata": {},
   "outputs": [],
   "source": [
    "wind = weather.groupby('Season')['TEMP'].mean().sort_index()\n",
    "month = ['Jan', 'Feb', 'Mar', 'Apr', 'May','Jun', 'Jul', 'Aug', 'Sep', 'Oct', 'Nov', 'Dec']\n",
    "x = [-10, -5, 0, 5, 10, 15, 20, 25, 30]\n",
    "base_color = sns.color_palette(\"Paired\")[9]\n",
    "plt.figure(figsize= [16, 8])\n",
    "sns.barplot(x = wind.index, y = wind, color = base_color)\n",
    "plt.xlabel('Season', fontsize = 12)\n",
    "plt.ylabel('Average Temperature', fontsize = 12)\n",
    "plt.yticks(x)\n",
    "plt.title('Average Temperature per Season', fontsize = 14)\n",
    "plt.show()"
   ]
  },
  {
   "cell_type": "code",
   "execution_count": null,
   "id": "af3538c5",
   "metadata": {},
   "outputs": [],
   "source": [
    "wind = weather.groupby('Season')['atm_pressure'].mean().sort_index()\n",
    "base_color = sns.color_palette(\"Paired\")[9]\n",
    "plt.figure(figsize= [16, 8])\n",
    "sns.barplot(x = wind.index, y = wind, color = base_color)\n",
    "plt.xlabel('Season', fontsize = 12)\n",
    "plt.ylabel('Average Pressure', fontsize = 12)\n",
    "plt.title('Average Pressure per Season', fontsize = 14)\n",
    "plt.show()"
   ]
  },
  {
   "cell_type": "markdown",
   "id": "258a4138",
   "metadata": {},
   "source": [
    "> **Observation:** The Chart above shows that the Average temperature is lowest during the winter period and it is highest during the summer period. The Average pressure shows that across all season, the pressure level is consistent around 1 atm\n",
    "\n",
    "I want to observe the relationship between Temperature and PM2.5"
   ]
  },
  {
   "cell_type": "code",
   "execution_count": null,
   "id": "48da3097",
   "metadata": {},
   "outputs": [],
   "source": [
    "# to print out the correlation between wind speed and PM2.5\n",
    "corr = weather['pm2.5'].corr(weather['TEMP'])\n",
    "print(\"Correlation between PM2.5 and Atmosperic Temperature is: \", round(corr, 2))\n",
    "\n",
    "\n",
    "# to plot a scatter plot income and amount requested\n",
    "plt.figure(figsize= (12,8))\n",
    "sns.regplot(x = 'TEMP', y = 'pm2.5', data = weather, color = 'purple', truncate= False)\n",
    "plt.yticks(fontsize = 14)\n",
    "plt.xticks(fontsize = 14)\n",
    "plt.ylabel('PM2.5 Level (Ug/m3)', fontsize = 14)\n",
    "plt.xlabel(\"Temperture (atm)\", fontsize = 14)\n",
    "plt.title(\"Relationship Between PM2.5 level and Temperature\", fontsize= 16)\n",
    "plt.show();"
   ]
  },
  {
   "cell_type": "markdown",
   "id": "481be45f",
   "metadata": {},
   "source": [
    ">**Observation:** The Relatioship between Temperature and the PM2.5 Level is close to zero which means there is no correlation. On trying to observe patterns, I cannot seem to see a clear pattern in the scatter diagram"
   ]
  },
  {
   "cell_type": "markdown",
   "id": "31cf04c2",
   "metadata": {},
   "source": [
    "### Question: Does the Hours of Precipitation affect the PM2.5 Level\n",
    "\n",
    "I would first like to check the Average hours of rain level in each season "
   ]
  },
  {
   "cell_type": "code",
   "execution_count": null,
   "id": "a7aa2396",
   "metadata": {},
   "outputs": [],
   "source": [
    "wind = weather.groupby('Season')['Ir'].mean().sort_index()\n",
    "print(wind)\n",
    "\n",
    "base_color = sns.color_palette(\"Paired\")[9]\n",
    "plt.figure(figsize= [16, 8])\n",
    "sns.barplot(x = wind.index, y = wind, color = base_color)\n",
    "plt.xlabel('Season', fontsize = 12)\n",
    "plt.ylabel('Average Precipitation Level', fontsize = 12)\n",
    "plt.title('Average Precipitation Level per Season', fontsize = 14)\n",
    "plt.show()"
   ]
  },
  {
   "cell_type": "markdown",
   "id": "b3e1f5a3",
   "metadata": {},
   "source": [
    "> **Observation:** The amount of hours of rainfall (Precipitation Level) is observed highest in the Summer Season and In the autumn season\n",
    "\n",
    "Next I want to observe the relationship between Number of hours of precipitation and PM2.5 level"
   ]
  },
  {
   "cell_type": "code",
   "execution_count": null,
   "id": "8c97423e",
   "metadata": {},
   "outputs": [],
   "source": [
    "# to print out the correlation between wind speed and PM2.5\n",
    "corr = weather['pm2.5'].corr(weather['Ir'])\n",
    "print(\"Correlation between PM2.5 and Precipitation Level is: \", round(corr, 2))\n",
    "\n",
    "\n",
    "# to plot a scatter plot income and amount requested\n",
    "plt.figure(figsize= (12,8))\n",
    "sns.regplot(x = 'Ir', y = 'pm2.5', data = weather, color = 'purple', truncate= False)\n",
    "plt.yticks(fontsize = 14)\n",
    "plt.xticks(fontsize = 14)\n",
    "plt.ylabel('PM2.5 Level (Ug/m3)', fontsize = 14)\n",
    "plt.xlabel(\"Number of hours of Precipitation (Hours)\", fontsize = 14)\n",
    "plt.title(\"Relationship Between PM2.5 level and Precipitation Hours\", fontsize= 16)\n",
    "plt.show();"
   ]
  },
  {
   "cell_type": "markdown",
   "id": "63334ba9",
   "metadata": {},
   "source": [
    "> **Observation:** The correlation between number of hours of precipitation and PM2.5 is almost 0, this means that there is no linear relationship between the two variables. On looking for patterns, It is observed that for Low amount of precipitation hours (below 15 hours), There are observed to be high PM2.5 level. It is safe to say that the lower the hours of rainfall, the higher the PM2.5 level"
   ]
  },
  {
   "cell_type": "markdown",
   "id": "a9a97ce5",
   "metadata": {},
   "source": [
    "### Question: Does the Snowing time affect the PM2.5 Level\n",
    "\n",
    "I would first like to check the Average hours of snow level in each season "
   ]
  },
  {
   "cell_type": "code",
   "execution_count": null,
   "id": "22e38e27",
   "metadata": {},
   "outputs": [],
   "source": [
    "wind = weather.groupby('Season')['Is'].mean().sort_index()\n",
    "base_color = sns.color_palette(\"Paired\")[9]\n",
    "plt.figure(figsize= [16, 8])\n",
    "sns.barplot(x = wind.index, y = wind, color = base_color)\n",
    "plt.xlabel('Season', fontsize = 12)\n",
    "plt.ylabel('Average Snowing time', fontsize = 12)\n",
    "plt.title('Average Precipitation Level per Season', fontsize = 14)\n",
    "plt.show()"
   ]
  },
  {
   "cell_type": "markdown",
   "id": "ad792b63",
   "metadata": {},
   "source": [
    ">**Observation:** The higher hours of snowing time were observed during the winter then during the spring season. It is evident from the chart that it does not really snow in other seasons compared to winter\n",
    "\n",
    "Next is to observe the relationship between Snowing time and PM2.5 level"
   ]
  },
  {
   "cell_type": "code",
   "execution_count": null,
   "id": "3886f080",
   "metadata": {},
   "outputs": [],
   "source": [
    "# to print out the correlation between wind speed and PM2.5\n",
    "corr = weather['pm2.5'].corr(weather['Is'])\n",
    "print(\"Correlation between PM2.5 and Snowing hours is: \", round(corr, 2))\n",
    "\n",
    "\n",
    "# to plot a scatter plot income and amount requested\n",
    "plt.figure(figsize= (12,8))\n",
    "sns.regplot(x = 'Is', y = 'pm2.5', data = weather, color = 'purple', truncate= False)\n",
    "plt.yticks(fontsize = 14)\n",
    "plt.xticks(fontsize = 14)\n",
    "plt.ylabel('PM2.5 Level (Ug/m3)', fontsize = 14)\n",
    "plt.xlabel(\"Number of hours of Snowing (Hours)\", fontsize = 14)\n",
    "plt.title(\"Relationship Between PM2.5 level and Snowing hours\", fontsize= 16)\n",
    "plt.show();"
   ]
  },
  {
   "cell_type": "markdown",
   "id": "4eaecf18",
   "metadata": {},
   "source": [
    ">**Observation:** From the chart above, it shows that as the number of hours of snowing reduces the higher the PM2.5 level. It is not safe to say this because there is not always snowing in all seasons so I cannot attribute lack of snow to the increase in PM2.5 level. "
   ]
  },
  {
   "cell_type": "markdown",
   "id": "d4c26c63",
   "metadata": {},
   "source": [
    "."
   ]
  },
  {
   "cell_type": "markdown",
   "id": "890dc366",
   "metadata": {},
   "source": [
    "## Conclusion"
   ]
  },
  {
   "cell_type": "markdown",
   "id": "953ef976",
   "metadata": {},
   "source": [
    "\n",
    "\n",
    "### Insights\n",
    "\n",
    "The main aim of this Analysis is to discover the impact of weather conditions on Air Quality. Air Quality in this dataset is determined by the level (Concentration in Ug/m3) of Particulate matter (PM2.5) in the atmosphere.\n",
    "According to Breeze Technologies, PM2.5 levels over 55Ug/m3 shows a poor level of air quality and above 110Ug/m3 shows a severe level of air quality. For this analysis, a limit of 100Ug/m3 was placed to signify that the air quality is getting to a severe level. \n",
    "\n",
    "After Exploring the dataset and doing research on this case study, I discovered the following insights \n",
    "\n",
    "- On checking the Mean value of PM2.5 across all years, the mean value is 97.80Ug/m3 which is very close to the threshold. After checking for the average PM2.5 for each year; for 2010 the average is 101.63Ug/m3, for 2011 the average is 97.99Ug/m3, for 2012 the average is 89.93Ug/m3, 2013 the average is 101.60Ug/m3 and 2014 the average is 97.87Ug/m3. From this observation, the city's air quality is not at its best with average PM2.5 level in the poor level.\n",
    "\n",
    "- After checking the PM2.5 level for each Month and Season, It is observed that PM2.5 level is the highest during the Winter Season (December to February) having approximately 110Ug/m3 on average. The Average PM2.5 level during the Autumn season also surpassed the threshold having 101.58Ug/m3. The The average PM2.5 level during the spring season and summer season is 88.24Ug/m3 and 91.74Ug/m3. From this observation, it tells that the PM2.5 level is worse during the winter season then the autumn season. \n",
    "\n",
    "- After observing the relationship between the wind speed and the PM2.5 level. It is observed that the lower the wind speed the higher the PM2.5 level. \n",
    "\n",
    "- Higher levels of PM2.5 occurs more often when the wind direction is going towards the South West (SW) then the South East. It gets extremely high during the winter period when the wind direction is headed towards the South East and South West\n",
    "\n",
    "- There was no relationship or pattern observed between the temperature and the PM2.5 levels\n",
    "\n",
    "- There was a steady Pressure level of approximately 1 atm\n",
    "\n",
    "- On periods where there are a low hours of precipitation (rainfall), the PM2.5 levels are extremely high. When there are longer hours of rainfall, the PM2.5 levels are low in comparison to when there are longer amount of rainfall."
   ]
  },
  {
   "cell_type": "markdown",
   "id": "f28df9fc",
   "metadata": {},
   "source": [
    "### Recommendations\n",
    "\n",
    "After gathering insights from the data, I would love to make a few recommendations\n",
    "\n",
    "- Since the city's average PM2.5 level is normally high, I strongly advise the government to check into United State's National Action Plan on Pollutant & Control, which intends to reduce PM 2.5 (respirable, pollution particles) concentrations by 20% to 30% above 2017 annual levels in more than 100 cities. By reducing reliance on coal, limiting car emissions, expanding the production of renewable energy sources, and strictly enforcing emissions regulations, the plan promised to achieve these objectives. \n",
    "\n",
    "- When the wind is blowing in the south-west and south-east directions, high levels of PM2.5 are seen. Tracking the sources of the pollutants and putting a stop to them will help lower the PM2.5 concentration.\n",
    "\n",
    "- The PM2.5 concentration was seen to rise quickly throughout the winter months. This may be due to the extensive use of coal and other fossil fuels in the production of heat. When possible, I advise replacing biomass fuels, such as wood, animal dung, and crop wastes, or coal, in homes that use them for cooking and heating with cleaner fuels, including biogas (methane), liquid petroleum gas (LPG), electricity, or solar cookers..\n",
    "\n",
    "- From the Analysis, A High Amount of hours of rain and snow shows a low level of PM2.5 levels. According to [Davis Instrument](https://www.davisinstruments.com/blogs/newsletter/meteorology-101-how-weather-affects-air-quality), Rain and Snow can wash particulate matter out of the air and destroy dissolvable pollutants.  While the pollutants are washed out or dispersed, they are not gone. They are just moved somewhere else. They end up in someone else’s lungs, or dropped into bodies of water for aquatic plants and animals to deal with. It is advised that citizens who are very sensitive health-wise should refrain from excessive outdoors activities so that they wouldnt get infected"
   ]
  }
 ],
 "metadata": {
  "kernelspec": {
   "display_name": "Python 3 (ipykernel)",
   "language": "python",
   "name": "python3"
  },
  "language_info": {
   "codemirror_mode": {
    "name": "ipython",
    "version": 3
   },
   "file_extension": ".py",
   "mimetype": "text/x-python",
   "name": "python",
   "nbconvert_exporter": "python",
   "pygments_lexer": "ipython3",
   "version": "3.12.4"
  }
 },
 "nbformat": 4,
 "nbformat_minor": 5
}
