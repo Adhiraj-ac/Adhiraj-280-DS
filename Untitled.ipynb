{
 "cells": [
  {
   "cell_type": "markdown",
   "id": "12fa3f14-4757-473e-830d-a8389aa6b2d5",
   "metadata": {},
   "source": [
    "# pandas (list to series)"
   ]
  },
  {
   "cell_type": "code",
   "execution_count": 5,
   "id": "69448bfa-880c-4971-90b9-a4ee16749bfe",
   "metadata": {},
   "outputs": [
    {
     "name": "stdout",
     "output_type": "stream",
     "text": [
      "a    1\n",
      "b    2\n",
      "c    3\n",
      "dtype: int64\n"
     ]
    }
   ],
   "source": [
    "import pandas as pd\n",
    "my_dict = {'a': 1, 'b': 2, 'c': 3}\n",
    "my_series = pd.Series(my_dict)\n",
    "print(my_series)"
   ]
  },
  {
   "cell_type": "markdown",
   "id": "1e4ef7e0-60a4-4d1f-b458-33259faf08af",
   "metadata": {},
   "source": [
    "# pandas(dictionary to series)|"
   ]
  },
  {
   "cell_type": "code",
   "execution_count": 7,
   "id": "2247eda8-443c-4522-9d46-ac9cc1c73afa",
   "metadata": {},
   "outputs": [
    {
     "name": "stdout",
     "output_type": "stream",
     "text": [
      "   ID     Name\n",
      "0   1    Alice\n",
      "1   2      Bob\n",
      "2   3  Charlie\n"
     ]
    }
   ],
   "source": [
    "import pandas as pd\n",
    "my_list = [[1, 'Alice'], [2, 'Bob'], [3, 'Charlie']]\n",
    "my_dataframe = pd.DataFrame(my_list, columns=['ID', 'Name'])\n",
    "print(my_dataframe)"
   ]
  },
  {
   "cell_type": "markdown",
   "id": "7c3d220d-1e90-43ab-b5e4-5fda2df4f35e",
   "metadata": {},
   "source": [
    "# pandas(dictonary to dataframe)"
   ]
  },
  {
   "cell_type": "code",
   "execution_count": 9,
   "id": "38c3c816-b1ee-4a66-b239-89eddfdb5402",
   "metadata": {},
   "outputs": [
    {
     "name": "stdout",
     "output_type": "stream",
     "text": [
      "   ID     Name\n",
      "0   1    Alice\n",
      "1   2      Bob\n",
      "2   3  Charlie\n"
     ]
    }
   ],
   "source": [
    "import pandas as pd\n",
    "my_dict = {\n",
    "    'ID': [1, 2, 3],\n",
    "    'Name': ['Alice', 'Bob', 'Charlie']\n",
    "}\n",
    "my_dataframe = pd.DataFrame(my_dict)\n",
    "print(my_dataframe)"
   ]
  },
  {
   "cell_type": "code",
   "execution_count": null,
   "id": "ad5d0dc7-d2ff-4109-87c5-c86668bf1d4e",
   "metadata": {},
   "outputs": [],
   "source": [
    "# pandas(list to dataframe)"
   ]
  },
  {
   "cell_type": "code",
   "execution_count": 11,
   "id": "253cc5d8-3876-414a-becf-2b156f161349",
   "metadata": {},
   "outputs": [
    {
     "name": "stdout",
     "output_type": "stream",
     "text": [
      "0    1\n",
      "1    2\n",
      "2    3\n",
      "3    4\n",
      "4    5\n",
      "dtype: int64\n"
     ]
    }
   ],
   "source": [
    "import pandas as pd\n",
    "my_list = [1, 2, 3, 4, 5]\n",
    "my_series = pd.Series(my_list)\n",
    "print(my_series)"
   ]
  },
  {
   "cell_type": "code",
   "execution_count": null,
   "id": "0019bf3a-ba2b-4baa-8d38-24215a60c1bc",
   "metadata": {},
   "outputs": [],
   "source": []
  }
 ],
 "metadata": {
  "kernelspec": {
   "display_name": "Python 3 (ipykernel)",
   "language": "python",
   "name": "python3"
  },
  "language_info": {
   "codemirror_mode": {
    "name": "ipython",
    "version": 3
   },
   "file_extension": ".py",
   "mimetype": "text/x-python",
   "name": "python",
   "nbconvert_exporter": "python",
   "pygments_lexer": "ipython3",
   "version": "3.12.4"
  }
 },
 "nbformat": 4,
 "nbformat_minor": 5
}
